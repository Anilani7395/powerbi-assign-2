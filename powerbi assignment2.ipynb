{
 "cells": [
  {
   "cell_type": "markdown",
   "id": "59ba18ca",
   "metadata": {},
   "source": [
    "\n",
    "1)it is the way to get the answer from the data using natural launguage.\n",
    "example:- what could be the total sales last year"
   ]
  },
  {
   "cell_type": "markdown",
   "id": "d67964fb",
   "metadata": {},
   "source": [
    "2) wfe is also called as front end .it acts as an intermediary between clients and the bacckend.the custer manages the initial connection between te backend cluster and the clients.the front end services are used for establishing an initial connection and authenticating clients using AAD. "
   ]
  },
  {
   "cell_type": "markdown",
   "id": "ebc76ebf",
   "metadata": {},
   "source": [
    "3)backend cluster is useful to maintain various reports storage datasets and other services under powerbi.it has only 2 direct point of interaction"
   ]
  },
  {
   "cell_type": "markdown",
   "id": "d18e58fb",
   "metadata": {},
   "source": [
    "4)it establihes an initaial connection and authenticates clients using azure active directory and it stores users identices."
   ]
  },
  {
   "cell_type": "markdown",
   "id": "ae0ee018",
   "metadata": {},
   "source": [
    "5)data import:-in excel it is capable of handling limited dataset.but in powerbi it is capable of handling larger dataset\n",
    "\n",
    "data transformation:- power bi is faster tan excel  at processing data\n",
    "\n",
    "modeling:- excel is focused non structured and simple data models with wide range of features.power bi is focused on data and building potentially complex data models\n",
    "\n",
    "reporting:-excel exports are normal and ordinary,but powerbi reorts are much better than excel reports.\n",
    "excel reports available to limited specific users,but in powerbi reports are available to large users.\n",
    "\n",
    "cost:-excel we need to spend money to procure it.,but power bi is freee to download."
   ]
  },
  {
   "cell_type": "markdown",
   "id": "9dc9a143",
   "metadata": {},
   "source": [
    "6)the 20 data sources supported by powerbi desktop are\n",
    "1)excel\n",
    "2)xml\n",
    "3)text\n",
    "4)json\n",
    "5)google big query\n",
    "6)azure sql database\n",
    "7)salesforce reports\n",
    "8)google analytics\n",
    "9)facebook\n",
    "10)gitub\n",
    "11)oracle database\n",
    "12)mysql database\n",
    "13)ibm db2 dtabase\n",
    "14)sybase datbase\n",
    "15)postgre sql database\n",
    "16)teradata database\n",
    "17)sap hana database \n",
    "18)sap nusiness warehouse server\n",
    "19)amazon redshift\n",
    "20)impala"
   ]
  },
  {
   "cell_type": "code",
   "execution_count": null,
   "id": "02949aaa",
   "metadata": {},
   "outputs": [],
   "source": []
  },
  {
   "cell_type": "code",
   "execution_count": null,
   "id": "fe6d4715",
   "metadata": {},
   "outputs": [],
   "source": []
  },
  {
   "cell_type": "code",
   "execution_count": null,
   "id": "21f87012",
   "metadata": {},
   "outputs": [],
   "source": []
  },
  {
   "cell_type": "code",
   "execution_count": null,
   "id": "a908fd6f",
   "metadata": {},
   "outputs": [],
   "source": []
  }
 ],
 "metadata": {
  "kernelspec": {
   "display_name": "Python 3 (ipykernel)",
   "language": "python",
   "name": "python3"
  },
  "language_info": {
   "codemirror_mode": {
    "name": "ipython",
    "version": 3
   },
   "file_extension": ".py",
   "mimetype": "text/x-python",
   "name": "python",
   "nbconvert_exporter": "python",
   "pygments_lexer": "ipython3",
   "version": "3.9.13"
  }
 },
 "nbformat": 4,
 "nbformat_minor": 5
}
